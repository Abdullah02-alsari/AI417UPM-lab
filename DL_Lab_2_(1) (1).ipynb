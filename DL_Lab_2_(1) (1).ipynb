{
  "cells": [
    {
      "cell_type": "code",
      "execution_count": 17,
      "metadata": {
        "id": "3fZ8Md8Tfehl"
      },
      "outputs": [],
      "source": [
        "import argparse\n",
        "import torch\n",
        "import torch.nn as nn\n",
        "import torch.nn.functional as F\n",
        "import torch.optim as optim\n",
        "from torchvision import datasets, transforms\n",
        "from torch.optim.lr_scheduler import StepLR\n",
        "import numpy as np\n",
        "import matplotlib.pyplot as plt"
      ]
    },
    {
      "cell_type": "code",
      "execution_count": 18,
      "metadata": {
        "id": "Kp2hz6tJkxAL"
      },
      "outputs": [],
      "source": [
        "class Net(nn.Module):\n",
        "    def __init__(self):\n",
        "        super(Net, self).__init__()\n",
        "\n",
        "        self.conv1 = nn.Conv2d(3, 32, 3, 1, padding=1)\n",
        "        self.conv2 = nn.Conv2d(32, 64, 3, 1, padding=1)\n",
        "\n",
        "        self.dropout1 = nn.Dropout(0.25)\n",
        "        self.dropout2 = nn.Dropout(0.5)\n",
        "\n",
        "        self.fc1 = nn.Linear(4096, 128)\n",
        "        self.fc2 = nn.Linear(128, 10)\n",
        "\n",
        "    def forward(self, x):\n",
        "        x = self.conv1(x)\n",
        "        x = F.relu(x)\n",
        "        x = F.max_pool2d(x, 2)\n",
        "\n",
        "        x = self.conv2(x)\n",
        "        x = F.relu(x)\n",
        "        x = F.max_pool2d(x, 2)\n",
        "        x = self.dropout1(x)\n",
        "\n",
        "        x = torch.flatten(x, 1)\n",
        "        x = self.fc1(x)\n",
        "        x = F.relu(x)\n",
        "        x = self.dropout2(x)\n",
        "        x = self.fc2(x)\n",
        "\n",
        "        output = F.log_softmax(x, dim=1)\n",
        "        return output"
      ]
    },
    {
      "cell_type": "code",
      "source": [],
      "metadata": {
        "id": "02gnwNHHnzPy"
      },
      "execution_count": 18,
      "outputs": []
    },
    {
      "cell_type": "code",
      "execution_count": 19,
      "metadata": {
        "id": "YTsrfGR_kxAL"
      },
      "outputs": [],
      "source": [
        "def train(args, model, device, train_loader, optimizer, epoch):\n",
        "    model.train()\n",
        "    for batch_idx, (data, target) in enumerate(train_loader):\n",
        "        data, target = data.to(device), target.to(device)\n",
        "        output = model(data)\n",
        "        loss = F.nll_loss(output, target)\n",
        "        optimizer.zero_grad()\n",
        "        loss.backward()\n",
        "        optimizer.step()\n",
        "\n",
        "        if batch_idx % args.log_interval == 0:\n",
        "            print('Train Epoch: {} [{}/{} ({:.0f}%)]\\tLoss: {:.6f}'.format(\n",
        "                epoch, batch_idx * len(data), len(train_loader.dataset),\n",
        "                100. * batch_idx / len(train_loader), loss.item()))\n",
        "            if args.dry_run:\n",
        "                break"
      ]
    },
    {
      "cell_type": "code",
      "execution_count": 20,
      "metadata": {
        "id": "fPijWOfJkxAL"
      },
      "outputs": [],
      "source": [
        "def test(model, device, test_loader):\n",
        "    model.eval()\n",
        "    test_loss = 0\n",
        "    correct = 0\n",
        "    i=0\n",
        "    with torch.no_grad():\n",
        "        for data, target in test_loader:\n",
        "            data, target = data.to(device), target.to(device)\n",
        "            output = model(data)\n",
        "            test_loss += F.nll_loss(output, target, reduction='sum').item()  # sum up batch loss\n",
        "            pred = output.argmax(dim=1, keepdim=True)  # get the index of the max log-probability\n",
        "            correct += pred.eq(target.view_as(pred)).sum().item()\n",
        "\n",
        "    test_loss /= len(test_loader.dataset)\n",
        "\n",
        "    print('\\nTest set: Average loss: {:.4f}, Accuracy: {}/{} ({:.0f}%)\\n'.format(\n",
        "        test_loss, correct, len(test_loader.dataset),\n",
        "        100. * correct / len(test_loader.dataset)))\n",
        "\n",
        "    images, labels = next(iter(test_loader))\n",
        "    output1 = model(images)\n",
        "    pred1 = output1.argmax(dim=1, keepdim=True)"
      ]
    },
    {
      "cell_type": "code",
      "execution_count": 24,
      "metadata": {
        "id": "96BLyreIkxAL"
      },
      "outputs": [],
      "source": [
        "def show_(model, test_loader):\n",
        "    model.eval()\n",
        "    images, labels = next(iter(test_loader))\n",
        "\n",
        "    with torch.no_grad():\n",
        "        output1 = model(images)\n",
        "\n",
        "    pred1 = output1.argmax(dim=1, keepdim=True)\n",
        "\n",
        "    for i in range(9):\n",
        "        print(f\"GT #{i+1}: {labels[i].item()} | Prediction #{i+1}: {pred1[i].item()}\")\n",
        "\n",
        "        plt.subplot(3, 3, i + 1)\n",
        "        plt.imshow(images[i].cpu().numpy().T.squeeze().reshape(32,32,3), cmap=\"gray\")\n",
        "        plt.title(f\"GT: {labels[i].item()} | Pred: {pred1[i].item()}\", fontsize=10)\n",
        "        plt.axis(\"off\")\n",
        "\n",
        "    plt.show()"
      ]
    },
    {
      "cell_type": "code",
      "execution_count": 25,
      "metadata": {
        "id": "R2P346tekxAL"
      },
      "outputs": [],
      "source": [
        "def main():\n",
        "    # Training settings\n",
        "    parser = argparse.ArgumentParser(description='PyTorch MNIST Example')\n",
        "    parser.add_argument('--batch-size', type=int, default=4, metavar='N',\n",
        "                        help='input batch size for training (default: 64)')\n",
        "    parser.add_argument('--test-batch-size', type=int, default=1000, metavar='N',\n",
        "                        help='input batch size for testing (default: 1000)')\n",
        "    parser.add_argument('--epochs', type=int, default=1, metavar='N',\n",
        "                        help='number of epochs to train (default: 14)')\n",
        "    parser.add_argument('--lr', type=float, default=1.0, metavar='LR',\n",
        "                        help='learning rate (default: 1.0)')\n",
        "    parser.add_argument('--gamma', type=float, default=0.7, metavar='M',\n",
        "                        help='Learning rate step gamma (default: 0.7)')\n",
        "    parser.add_argument('--no-cuda', action='store_true', default=False,\n",
        "                        help='disables CUDA training')\n",
        "    parser.add_argument('--no-mps', action='store_true', default=False,\n",
        "                        help='disables macOS GPU training')\n",
        "    parser.add_argument('--dry-run', action='store_true', default=False,\n",
        "                        help='quickly check a single pass')\n",
        "    parser.add_argument('--seed', type=int, default=1, metavar='S',\n",
        "                        help='random seed (default: 1)')\n",
        "    parser.add_argument('--log-interval', type=int, default=10, metavar='N',\n",
        "                        help='how many batches to wait before logging training status')\n",
        "    parser.add_argument('--save-model', action='store_true', default=True,\n",
        "                        help='For Saving the current Model')\n",
        "\n",
        "    args = parser.parse_args(['--batch-size', '64', '--test-batch-size', '1000', '--epochs', '1', '--lr', '1.0', '--gamma', '0.7'])\n",
        "    use_cuda = not args.no_cuda and torch.cuda.is_available()\n",
        "    use_mps = not args.no_mps and torch.backends.mps.is_available()\n",
        "\n",
        "    torch.manual_seed(args.seed)\n",
        "\n",
        "    if use_cuda:\n",
        "        device = torch.device(\"cuda\")\n",
        "    elif use_mps:\n",
        "        device = torch.device(\"mps\")\n",
        "    else:\n",
        "        device = torch.device(\"cpu\")\n",
        "\n",
        "    train_kwargs = {'batch_size': args.batch_size}\n",
        "    test_kwargs = {'batch_size': args.test_batch_size}\n",
        "    if use_cuda:\n",
        "        cuda_kwargs = {'num_workers': 1,\n",
        "                       'pin_memory': True,\n",
        "                       'shuffle': True}\n",
        "        train_kwargs.update(cuda_kwargs)\n",
        "        test_kwargs.update(cuda_kwargs)\n",
        "\n",
        "    transform=transforms.Compose([\n",
        "        transforms.ToTensor(),\n",
        "       # transforms.Normalize((0.1307,), (0.3081,))\n",
        "        ])\n",
        "\n",
        "    dataset1 = datasets.CIFAR10('../data', train=True, download=True,\n",
        "                       transform=transform)\n",
        "    dataset2 = datasets.CIFAR10('../data', train=False,\n",
        "                       transform=transform)\n",
        "\n",
        "    train_loader = torch.utils.data.DataLoader(dataset1,**train_kwargs)\n",
        "    test_loader = torch.utils.data.DataLoader(dataset2, **test_kwargs)\n",
        "\n",
        "    model = Net().to(device)\n",
        "    optimizer = optim.Adadelta(model.parameters(), lr=args.lr)\n",
        "\n",
        "    scheduler = StepLR(optimizer, step_size=1, gamma=args.gamma)\n",
        "\n",
        "    for epoch in range(1, args.epochs + 1):\n",
        "        train(args, model, device, train_loader, optimizer, epoch)\n",
        "        test(model, device, test_loader)\n",
        "        show_(model,  test_loader)\n",
        "        scheduler.step()\n",
        "\n",
        "    if args.save_model:\n",
        "        torch.save(model.state_dict(), \"mnist_cnn.pt\")"
      ]
    },
    {
      "cell_type": "code",
      "execution_count": 26,
      "metadata": {
        "colab": {
          "base_uri": "https://localhost:8080/",
          "height": 1000
        },
        "id": "gnlDNwF1kxAM",
        "outputId": "31123213-7642-4cd9-d5dd-d0ddcb31a676"
      },
      "outputs": [
        {
          "output_type": "stream",
          "name": "stdout",
          "text": [
            "Files already downloaded and verified\n",
            "Train Epoch: 1 [0/50000 (0%)]\tLoss: 2.291793\n",
            "Train Epoch: 1 [640/50000 (1%)]\tLoss: 2.305616\n",
            "Train Epoch: 1 [1280/50000 (3%)]\tLoss: 2.324815\n",
            "Train Epoch: 1 [1920/50000 (4%)]\tLoss: 2.283361\n",
            "Train Epoch: 1 [2560/50000 (5%)]\tLoss: 2.295275\n",
            "Train Epoch: 1 [3200/50000 (6%)]\tLoss: 2.160267\n",
            "Train Epoch: 1 [3840/50000 (8%)]\tLoss: 2.476527\n",
            "Train Epoch: 1 [4480/50000 (9%)]\tLoss: 2.147025\n",
            "Train Epoch: 1 [5120/50000 (10%)]\tLoss: 2.154851\n",
            "Train Epoch: 1 [5760/50000 (12%)]\tLoss: 2.164449\n",
            "Train Epoch: 1 [6400/50000 (13%)]\tLoss: 2.161312\n",
            "Train Epoch: 1 [7040/50000 (14%)]\tLoss: 1.961183\n",
            "Train Epoch: 1 [7680/50000 (15%)]\tLoss: 2.063493\n",
            "Train Epoch: 1 [8320/50000 (17%)]\tLoss: 2.168526\n",
            "Train Epoch: 1 [8960/50000 (18%)]\tLoss: 2.135606\n",
            "Train Epoch: 1 [9600/50000 (19%)]\tLoss: 1.948504\n",
            "Train Epoch: 1 [10240/50000 (20%)]\tLoss: 2.115917\n",
            "Train Epoch: 1 [10880/50000 (22%)]\tLoss: 1.883323\n",
            "Train Epoch: 1 [11520/50000 (23%)]\tLoss: 1.719768\n",
            "Train Epoch: 1 [12160/50000 (24%)]\tLoss: 1.690653\n",
            "Train Epoch: 1 [12800/50000 (26%)]\tLoss: 1.612067\n",
            "Train Epoch: 1 [13440/50000 (27%)]\tLoss: 1.798309\n",
            "Train Epoch: 1 [14080/50000 (28%)]\tLoss: 1.848561\n",
            "Train Epoch: 1 [14720/50000 (29%)]\tLoss: 1.935004\n",
            "Train Epoch: 1 [15360/50000 (31%)]\tLoss: 1.868477\n",
            "Train Epoch: 1 [16000/50000 (32%)]\tLoss: 1.659149\n",
            "Train Epoch: 1 [16640/50000 (33%)]\tLoss: 1.704917\n",
            "Train Epoch: 1 [17280/50000 (35%)]\tLoss: 1.836942\n",
            "Train Epoch: 1 [17920/50000 (36%)]\tLoss: 1.714531\n",
            "Train Epoch: 1 [18560/50000 (37%)]\tLoss: 1.738110\n",
            "Train Epoch: 1 [19200/50000 (38%)]\tLoss: 1.705121\n",
            "Train Epoch: 1 [19840/50000 (40%)]\tLoss: 1.790142\n",
            "Train Epoch: 1 [20480/50000 (41%)]\tLoss: 1.829109\n",
            "Train Epoch: 1 [21120/50000 (42%)]\tLoss: 1.799464\n",
            "Train Epoch: 1 [21760/50000 (43%)]\tLoss: 1.934524\n",
            "Train Epoch: 1 [22400/50000 (45%)]\tLoss: 1.689584\n",
            "Train Epoch: 1 [23040/50000 (46%)]\tLoss: 1.769829\n",
            "Train Epoch: 1 [23680/50000 (47%)]\tLoss: 1.432589\n",
            "Train Epoch: 1 [24320/50000 (49%)]\tLoss: 1.645558\n",
            "Train Epoch: 1 [24960/50000 (50%)]\tLoss: 1.659094\n",
            "Train Epoch: 1 [25600/50000 (51%)]\tLoss: 1.668175\n",
            "Train Epoch: 1 [26240/50000 (52%)]\tLoss: 1.804772\n",
            "Train Epoch: 1 [26880/50000 (54%)]\tLoss: 1.711404\n",
            "Train Epoch: 1 [27520/50000 (55%)]\tLoss: 1.907081\n",
            "Train Epoch: 1 [28160/50000 (56%)]\tLoss: 1.676786\n",
            "Train Epoch: 1 [28800/50000 (58%)]\tLoss: 1.527255\n",
            "Train Epoch: 1 [29440/50000 (59%)]\tLoss: 1.673836\n",
            "Train Epoch: 1 [30080/50000 (60%)]\tLoss: 1.518649\n",
            "Train Epoch: 1 [30720/50000 (61%)]\tLoss: 1.702925\n",
            "Train Epoch: 1 [31360/50000 (63%)]\tLoss: 1.749980\n",
            "Train Epoch: 1 [32000/50000 (64%)]\tLoss: 1.724768\n",
            "Train Epoch: 1 [32640/50000 (65%)]\tLoss: 1.698018\n",
            "Train Epoch: 1 [33280/50000 (66%)]\tLoss: 1.645197\n",
            "Train Epoch: 1 [33920/50000 (68%)]\tLoss: 1.685309\n",
            "Train Epoch: 1 [34560/50000 (69%)]\tLoss: 1.718583\n",
            "Train Epoch: 1 [35200/50000 (70%)]\tLoss: 1.693782\n",
            "Train Epoch: 1 [35840/50000 (72%)]\tLoss: 1.402204\n",
            "Train Epoch: 1 [36480/50000 (73%)]\tLoss: 1.453687\n",
            "Train Epoch: 1 [37120/50000 (74%)]\tLoss: 1.571551\n",
            "Train Epoch: 1 [37760/50000 (75%)]\tLoss: 1.657113\n",
            "Train Epoch: 1 [38400/50000 (77%)]\tLoss: 1.593930\n",
            "Train Epoch: 1 [39040/50000 (78%)]\tLoss: 1.463677\n",
            "Train Epoch: 1 [39680/50000 (79%)]\tLoss: 1.679065\n",
            "Train Epoch: 1 [40320/50000 (81%)]\tLoss: 1.683387\n",
            "Train Epoch: 1 [40960/50000 (82%)]\tLoss: 1.770042\n",
            "Train Epoch: 1 [41600/50000 (83%)]\tLoss: 1.385770\n",
            "Train Epoch: 1 [42240/50000 (84%)]\tLoss: 1.497749\n",
            "Train Epoch: 1 [42880/50000 (86%)]\tLoss: 1.620756\n",
            "Train Epoch: 1 [43520/50000 (87%)]\tLoss: 1.502471\n",
            "Train Epoch: 1 [44160/50000 (88%)]\tLoss: 1.687844\n",
            "Train Epoch: 1 [44800/50000 (90%)]\tLoss: 1.580080\n",
            "Train Epoch: 1 [45440/50000 (91%)]\tLoss: 1.464328\n",
            "Train Epoch: 1 [46080/50000 (92%)]\tLoss: 1.371006\n",
            "Train Epoch: 1 [46720/50000 (93%)]\tLoss: 1.352455\n",
            "Train Epoch: 1 [47360/50000 (95%)]\tLoss: 1.447327\n",
            "Train Epoch: 1 [48000/50000 (96%)]\tLoss: 1.818408\n",
            "Train Epoch: 1 [48640/50000 (97%)]\tLoss: 1.492674\n",
            "Train Epoch: 1 [49280/50000 (98%)]\tLoss: 1.531711\n",
            "Train Epoch: 1 [49920/50000 (100%)]\tLoss: 1.527209\n",
            "\n",
            "Test set: Average loss: 1.3983, Accuracy: 4964/10000 (50%)\n",
            "\n",
            "GT #1: 3 | Prediction #1: 2\n",
            "GT #2: 8 | Prediction #2: 1\n",
            "GT #3: 8 | Prediction #3: 8\n",
            "GT #4: 0 | Prediction #4: 0\n",
            "GT #5: 6 | Prediction #5: 4\n",
            "GT #6: 6 | Prediction #6: 6\n",
            "GT #7: 1 | Prediction #7: 1\n",
            "GT #8: 6 | Prediction #8: 6\n",
            "GT #9: 3 | Prediction #9: 2\n"
          ]
        },
        {
          "output_type": "display_data",
          "data": {
            "text/plain": [
              "<Figure size 640x480 with 9 Axes>"
            ],
            "image/png": "[encoded data removed]"
          },
          "metadata": {}
        }
      ],
      "source": [
        "if __name__ == '__main__':\n",
        "    main()"
      ]
    },
    {
      "cell_type": "code",
      "execution_count": null,
      "metadata": {
        "id": "tzM9HWUskxAM"
      },
      "outputs": [],
      "source": []
    },
    {
      "cell_type": "code",
      "execution_count": null,
      "metadata": {
        "id": "ExSiuafvkxAM"
      },
      "outputs": [],
      "source": []
    },
    {
      "cell_type": "code",
      "execution_count": null,
      "metadata": {
        "id": "xowwzxTSkxAM"
      },
      "outputs": [],
      "source": []
    }
  ],
  "metadata": {
    "colab": {
      "provenance": []
    },
    "kernelspec": {
      "display_name": "Python 3",
      "name": "python3"
    },
    "language_info": {
      "codemirror_mode": {
        "name": "ipython",
        "version": 3
      },
      "file_extension": ".py",
      "mimetype": "text/x-python",
      "name": "python",
      "nbconvert_exporter": "python",
      "pygments_lexer": "ipython3",
      "version": "3.9.21"
    }
  },
  "nbformat": 4,
  "nbformat_minor": 0
}